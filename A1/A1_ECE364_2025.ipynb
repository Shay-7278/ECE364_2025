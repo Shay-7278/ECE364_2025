{
 "cells": [
  {
   "cell_type": "markdown",
   "metadata": {},
   "source": [
    "## Prepare python environment\n"
   ]
  },
  {
   "cell_type": "code",
   "execution_count": null,
   "metadata": {},
   "outputs": [],
   "source": [
    "import pandas as pd\n",
    "import numpy as np\n",
    "import matplotlib.pyplot as plt\n",
    "import seaborn as sns\n",
    "from sklearn.model_selection import train_test_split\n",
    "\n",
    "%matplotlib inline"
   ]
  },
  {
   "cell_type": "code",
   "execution_count": null,
   "metadata": {},
   "outputs": [],
   "source": [
    "random_state=5 # use this to control randomness across runs e.g., dataset partitioning"
   ]
  },
  {
   "cell_type": "markdown",
   "metadata": {},
   "source": [
    "## Preparing the Heart Dataset (2 points)\n",
    "\n",
    "---\n",
    "\n",
    "\n",
    "We will use heart dataset from UCI machine learning repository. Details of this data can be found [here](https://archive.ics.uci.edu/ml/datasets/statlog+(heart)). \n",
    "The dataset contains the following features with their corresponding feature types:\n",
    "1. age in years (real)\n",
    "2. sex (binary; 1=male/0=female)\n",
    "3. cp: chest pain type (categorical)\n",
    "4. trestbps: resting blood pressure (in mm Hg on admission to the hospital) (real)\n",
    "5. chol: serum cholesterol in mg/dl (real)\n",
    "6. fbs: (fasting blood sugar > 120 mg/dl) (binary; 1=true/0=false)\n",
    "7. restecg: resting electrocardiographic results (categorical)\n",
    "8. thalach: maximum heart rate achieved (real)\n",
    "9. exang: exercise induced angina (1 = yes; 0 = no) (binary)\n",
    "10. oldpeak: ST depression induced by exercise relative to rest (real)\n",
    "11. slope: the slope of the peak exercise ST segment (ordinal)\n",
    "12. ca: number of major vessels colored by flourosopy (real)\n",
    "13. thal: 3 = normal; 6 = fixed defect; 7 = reversable defect. (categorical)\n",
    "14. target: 1 = heart disease, 0 = no heart disease (binary)\n",
    "\n",
    "The objective is to determine whether a person has heart disease or not based on these features."
   ]
  },
  {
   "cell_type": "markdown",
   "metadata": {},
   "source": [
    "### Loading the dataset"
   ]
  },
  {
   "cell_type": "code",
   "execution_count": null,
   "metadata": {},
   "outputs": [],
   "source": [
    "# Load the dataset from a CSV file\n",
    "data = pd.read_csv('./heart.csv')\n",
    "\n",
    "# Display the first five instances in the dataset\n",
    "data.head(5)"
   ]
  },
  {
   "cell_type": "markdown",
   "metadata": {},
   "source": [
    "### Check the data type for each column"
   ]
  },
  {
   "cell_type": "code",
   "execution_count": null,
   "metadata": {},
   "outputs": [],
   "source": [
    "data.info()"
   ]
  },
  {
   "cell_type": "markdown",
   "metadata": {},
   "source": [
    "#### Look at some statistics of the data using the `describe` function in pandas."
   ]
  },
  {
   "cell_type": "code",
   "execution_count": null,
   "metadata": {},
   "outputs": [],
   "source": [
    "data.describe()"
   ]
  },
  {
   "cell_type": "markdown",
   "metadata": {},
   "source": [
    "1. Count tells us the number of Non-empty rows in a feature.\n",
    "\n",
    "2. Mean tells us the mean value of that feature.\n",
    "\n",
    "3. Std tells us the Standard Deviation Value of that feature.\n",
    "\n",
    "4. Min tells us the minimum value of that feature.\n",
    "\n",
    "5. 25%, 50%, and 75% are the percentile/quartile of each feature.\n",
    "\n",
    "6. Max tells us the maximum value of that feature."
   ]
  },
  {
   "cell_type": "markdown",
   "metadata": {},
   "source": [
    "### Visualize the Data"
   ]
  },
  {
   "cell_type": "markdown",
   "metadata": {},
   "source": [
    "#### Check how many instances of each target class are there in the data. This has been done for you."
   ]
  },
  {
   "cell_type": "code",
   "execution_count": null,
   "metadata": {},
   "outputs": [],
   "source": [
    "sns.set_theme(style=\"whitegrid\", font_scale=1.8)\n",
    "plt.subplots(figsize = (15,8))\n",
    "sns.countplot(x='target',data=data).set_title('Count of Heart Disease Cases')\n",
    "plt.xlabel('Target (0=No Disease, 1=Disease)')\n",
    "plt.ylabel('Count')"
   ]
  },
  {
   "cell_type": "markdown",
   "metadata": {},
   "source": [
    "#### Calculate `mean` values for each feature grouped by target. This has been done for you."
   ]
  },
  {
   "cell_type": "code",
   "execution_count": null,
   "metadata": {},
   "outputs": [],
   "source": [
    "# Compute mean values for each feature grouped by target\n",
    "data.groupby('target', as_index=False).mean()"
   ]
  },
  {
   "cell_type": "markdown",
   "metadata": {},
   "source": [
    "#### Create box plots to see distribution of each feature. See [here](https://seaborn.pydata.org/generated/seaborn.boxplot.html) for further details. This has been done for you."
   ]
  },
  {
   "cell_type": "code",
   "execution_count": null,
   "metadata": {},
   "outputs": [],
   "source": [
    "sns.set_theme(style=\"white\", font_scale=1.2)\n",
    "plt.subplots(figsize = (30,20))\n",
    "plt.subplot(3,5,1)\n",
    "sns.boxplot(x='target', y='age', data=data)\n",
    "plt.subplot(3,5,2)\n",
    "sns.boxplot(x='target', y='sex', data=data)\n",
    "plt.subplot(3,5,3)\n",
    "sns.boxplot(x='target', y='cp', data=data)\n",
    "plt.subplot(3,5,4)\n",
    "sns.boxplot(x='target', y='trestbps', data=data)\n",
    "plt.subplot(3,5,5)\n",
    "sns.boxplot(x='target', y='chol', data=data)\n",
    "plt.subplot(3,5,6)\n",
    "sns.boxplot(x='target', y='fbs', data=data)\n",
    "plt.subplot(3,5,7)\n",
    "sns.boxplot(x='target', y='restecg', data=data)\n",
    "plt.subplot(3,5,8)\n",
    "sns.boxplot(x='target', y='thalach', data=data)\n",
    "plt.subplot(3,5,9)\n",
    "sns.boxplot(x='target', y='exang', data=data)\n",
    "plt.subplot(3,5,10)\n",
    "sns.boxplot(x='target', y='oldpeak', data=data)\n",
    "plt.subplot(3,5,11)\n",
    "sns.boxplot(x='target', y='slope', data=data)\n",
    "plt.subplot(3,5,12)\n",
    "sns.boxplot(x='target', y='ca', data=data)\n",
    "plt.subplot(3,5,13)\n",
    "sns.boxplot(x='target', y='thal', data=data)\n",
    "plt.show()"
   ]
  },
  {
   "cell_type": "markdown",
   "metadata": {},
   "source": [
    "#### Create a pairplot to display pairwise relationship. See [here](https://seaborn.pydata.org/generated/seaborn.pairplot.html) for further details. This has been done for you."
   ]
  },
  {
   "cell_type": "code",
   "execution_count": null,
   "metadata": {},
   "outputs": [],
   "source": [
    "from IPython.display import display, HTML\n",
    "display(HTML(\"<style>.container { width:100% !important; }</style>\"))\n",
    "# Select a subset of features for visualization\n",
    "sns.pairplot(data[['age','trestbps','chol','thalach','oldpeak','target']], hue='target')"
   ]
  },
  {
   "cell_type": "code",
   "execution_count": null,
   "metadata": {},
   "outputs": [],
   "source": [
    "# Plot heatmap showing correlation between different features\n",
    "plt.subplots(figsize=(15,10))\n",
    "sns.heatmap(data.corr(),cmap='YlGnBu',annot=True, linewidth=.5)"
   ]
  },
  {
   "cell_type": "markdown",
   "metadata": {},
   "source": [
    "### Extract target and descriptive features (1 point)"
   ]
  },
  {
   "cell_type": "markdown",
   "metadata": {},
   "source": [
    "#### Separate the target and features from the data."
   ]
  },
  {
   "cell_type": "code",
   "execution_count": null,
   "metadata": {},
   "outputs": [],
   "source": [
    "# Store all the features from the data in X\n",
    "X = # TODO\n",
    "\n",
    "# Store all the labels in y\n",
    "y = # TODO"
   ]
  },
  {
   "cell_type": "code",
   "execution_count": null,
   "metadata": {},
   "outputs": [],
   "source": [
    "# Convert data to numpy array\n",
    "X = # TODO\n",
    "y = # TODO"
   ]
  },
  {
   "cell_type": "markdown",
   "metadata": {},
   "source": [
    "### Create training and validation datasets (1 point)\n",
    "\n",
    "\n",
    "We will split the dataset into training and validation set. Generally in machine learning, we split the data into training,\n",
    "validation and test set (this will be covered in later chapters). The model with best performance on the validation set is used to evaluate perfromance on\n",
    "the test set which is the unseen data. In this assignment, we will using `train set` for training and evaluate the performance on the `validation set` for various\n",
    "model configurations to determine the best hyperparameters (parameter setting yielding the best performance).\n",
    "\n",
    "Split the data into training and validation set using `train_test_split`.  See [here](https://scikit-learn.org/stable/modules/generated/sklearn.model_selection.train_test_split.html) for details. To get consistent result while splitting, set `random_state` to the value defined earlier. We use 80% of the data for training and 20% of the data for validation. This has been done for you."
   ]
  },
  {
   "cell_type": "code",
   "execution_count": null,
   "metadata": {},
   "outputs": [],
   "source": [
    "X_train,X_val,y_train,y_val = # TODO"
   ]
  },
  {
   "cell_type": "markdown",
   "metadata": {},
   "source": [
    "## Training Decision Tree-based Classifiers (18 points)\n"
   ]
  },
  {
   "cell_type": "markdown",
   "metadata": {},
   "source": [
    "### Exercise 1: Learning a Decision Tree (10 points)\n",
    "\n",
    "#### We will use the `sklearn` library to train a Decision Tree classifier. Review ch.4 and see [here](https://scikit-learn.org/stable/modules/generated/sklearn.tree.DecisionTreeClassifier.html) for more details."
   ]
  },
  {
   "cell_type": "code",
   "execution_count": null,
   "metadata": {},
   "outputs": [],
   "source": [
    "from sklearn.tree import DecisionTreeClassifier\n",
    "from sklearn.metrics import accuracy_score"
   ]
  },
  {
   "cell_type": "code",
   "execution_count": null,
   "metadata": {},
   "outputs": [],
   "source": [
    "# tree visualization helper function\n",
    "from sklearn.tree import export_graphviz\n",
    "from six import StringIO\n",
    "from IPython.display import Image\n",
    "import pydotplus\n",
    "\n",
    "\"\"\"\n",
    "clf: DecisionTreeClassifier\n",
    "\n",
    "Returns a bytes object representing the image of the tree\n",
    "\"\"\"\n",
    "def get_tree_image(clf):\n",
    "    dot_data = StringIO()\n",
    "    feature_names=data.drop('target',axis=1).columns\n",
    "    class_names=[\"No Disease\", \"Heart Disease\"]\n",
    "    export_graphviz(clf, out_file=dot_data,\n",
    "                    filled=True, rounded=True,\n",
    "                    special_characters=True,\n",
    "                    feature_names=feature_names,\n",
    "                    class_names=class_names)\n",
    "    graph = pydotplus.graph_from_dot_data(dot_data.getvalue())\n",
    "\n",
    "\n",
    "    return graph.create_png()"
   ]
  },
  {
   "cell_type": "markdown",
   "metadata": {},
   "source": [
    "#### Exercise 1a: Fit and interpret a decision tree. (6 points)\n",
    "\n",
    "#### Fit Decision trees using the Gini index and entropy-based impurity measure.\n",
    "\n",
    "#### Set the random_state to the value defined above. Keep all other parameters at their default values.\n",
    "\n",
    "#### Report the training and validation set accuracies for each classifier."
   ]
  },
  {
   "cell_type": "code",
   "execution_count": null,
   "metadata": {},
   "outputs": [],
   "source": [
    "# TODO"
   ]
  },
  {
   "cell_type": "markdown",
   "metadata": {},
   "source": [
    "#### Visualize the Decision Tree with the best validation performance."
   ]
  },
  {
   "cell_type": "code",
   "execution_count": null,
   "metadata": {},
   "outputs": [],
   "source": [
    "best_clf=entropy_clf\n",
    "tree_image=get_tree_image(best_clf)\n",
    "Image(tree_image)"
   ]
  },
  {
   "cell_type": "code",
   "execution_count": null,
   "metadata": {},
   "outputs": [],
   "source": [
    "best_clf=gini_clf\n",
    "tree_image=get_tree_image(best_clf)\n",
    "Image(tree_image)"
   ]
  },
  {
   "cell_type": "markdown",
   "metadata": {},
   "source": [
    "#### Indicate the most informative descriptive feature (with the threshold) and briefly explain why this is the most informative (from an algorithmic viewpoint)."
   ]
  },
  {
   "cell_type": "markdown",
   "metadata": {},
   "source": [
    "**Answer:** [TODO]"
   ]
  },
  {
   "cell_type": "markdown",
   "metadata": {},
   "source": [
    "#### Briefly comment on the tree's depth and what factors may contribute to the shallowness/complexity of the tree.\n"
   ]
  },
  {
   "cell_type": "markdown",
   "metadata": {},
   "source": [
    "**Answer:** [TODO]"
   ]
  },
  {
   "cell_type": "markdown",
   "metadata": {},
   "source": [
    "#### Show how one can interpret the tree by specifying the rule from its left most branch."
   ]
  },
  {
   "cell_type": "markdown",
   "metadata": {},
   "source": [
    "**Answer:** [TODO]"
   ]
  },
  {
   "cell_type": "markdown",
   "metadata": {},
   "source": [
    "#### Exercise 1b: Preprune a decision tree. (2 points)\n",
    "\n",
    "#### Next, let's try pruning the tree to see if we can improve the classifier's generalization performance.\n",
    "\n",
    "#### Preprune a decision tree by varying the `max_depth` among {None (no depth control), 1,3,5,7}.\n",
    "\n",
    "#### Set the criterion to entropy and the random_state to the value defined above. Keep all other parameters at their default values.\n",
    "\n",
    "#### Report the training and validation set accuracies for each classifier."
   ]
  },
  {
   "cell_type": "code",
   "execution_count": null,
   "metadata": {},
   "outputs": [],
   "source": [
    "# TODO"
   ]
  },
  {
   "cell_type": "markdown",
   "metadata": {},
   "source": [
    "#### Analyze the effect of increasing tree depth on training and validation performance."
   ]
  },
  {
   "cell_type": "markdown",
   "metadata": {},
   "source": [
    "**Answer:** [TODO]"
   ]
  },
  {
   "cell_type": "markdown",
   "metadata": {},
   "source": [
    "#### Exercise 1c: Postprune a decision tree. (2 points)\n",
    "\n",
    "#### Implement reduced error pruning on the two decision trees that you previously trained in Exercise 1a. Use the validation set to decide which nodes to prune.\n",
    "\n",
    "#### Report the validation set accuracies for each classifier after pruning.\n",
    "\n",
    "#### The pruning function is partly writen, please fill in the TODO part. Review ch.4.4.4 for more details.\n"
   ]
  },
  {
   "cell_type": "code",
   "execution_count": null,
   "metadata": {},
   "outputs": [],
   "source": [
    "# Fit new trees if you want to keep the trees in 1a unmodified\n",
    "gini_clf = # TODO: your tree fitted using the Gini index\n",
    "entropy_clf = # TODO: your tree fitted using the entropy-based impurity measures\n",
    "\n",
    "def reduced_error_pruning(dtree, X_val, y_val):\n",
    "    \"\"\"\n",
    "    Perform reduced error pruning on a decision tree classifier.\n",
    "\n",
    "    This function directly modifies the decision tree passed as an argument.\n",
    "\n",
    "    Args:\n",
    "    dtree: DecisionTreeClassifier\n",
    "        The decision tree to prune, must be already fitted.\n",
    "    X_val: array-like\n",
    "        Validation features used to prune the tree.\n",
    "    y_val: array-like\n",
    "        Validation labels used to determine pruning effectiveness.\n",
    "\n",
    "    Returns:\n",
    "    dtree: DecisionTreeClassifier\n",
    "        The pruned decision tree.\n",
    "    \"\"\"\n",
    "\n",
    "    # Access the internal tree structure to identify non-leaf nodes\n",
    "    non_leaf_nodes = [i for i in range(dtree.tree_.node_count) if dtree.tree_.children_left[i] != dtree.tree_.children_right[i]]\n",
    "\n",
    "    # Track the best accuracy and corresponding tree configuration. initialize with original accuracy.\n",
    "    best_acc = # TODO\n",
    "\n",
    "    # Iterate over non-leaf nodes in reverse order to consider pruning from the bottom up\n",
    "    for i in reversed(non_leaf_nodes):\n",
    "        # Store current node children to restore if needed\n",
    "        left, right = dtree.tree_.children_left[i], dtree.tree_.children_right[i]\n",
    "\n",
    "        # Temporarily make the node a leaf\n",
    "        dtree.tree_.children_left[i], dtree.tree_.children_right[i] = -1, -1\n",
    "\n",
    "        # Calculate the accuracy of the tree with the node pruned (turned into a leaf)\n",
    "        temp_acc = # TODO\n",
    "\n",
    "        if temp_acc < best_acc: # Revert pruning if accuracy decreases\n",
    "            # Restore the node to its original state\n",
    "            # TODO\n",
    "        else:\n",
    "            # Update the best accuracy observed\n",
    "            # TODO\n",
    "\n",
    "    return dtree  # Return the modified tree\n",
    "\n",
    "\n",
    "pruned_entropy = reduced_error_pruning(entropy_clf, X_val, y_val)\n",
    "pruned_entropy_acc = # TODO\n",
    "print(f\"Validation accuracy of entropy tree after pruning: {pruned_entropy_acc:.4f}\")\n",
    "\n",
    "pruned_gini = reduced_error_pruning(gini_clf, X_val, y_val)\n",
    "pruned_gini_acc = # TODO\n",
    "print(f\"Validation accuracy of gini tree after pruning: {pruned_gini_acc:.4f}\")"
   ]
  },
  {
   "cell_type": "markdown",
   "metadata": {},
   "source": [
    "### Exercise 2: Learning an Ensemble of Decision Trees (8 points)\n",
    "\n",
    "#### We will use the `sklearn` library to implement bagging and boosting. Review ch.4 and read more on [bagging](https://scikit-learn.org/stable/modules/generated/sklearn.ensemble.RandomForestClassifier.html) and [boosting](https://scikit-learn.org/stable/modules/generated/sklearn.ensemble.GradientBoostingClassifier.html)."
   ]
  },
  {
   "cell_type": "code",
   "execution_count": null,
   "metadata": {},
   "outputs": [],
   "source": [
    "from sklearn.ensemble import RandomForestClassifier\n",
    "from sklearn.ensemble import GradientBoostingClassifier"
   ]
  },
  {
   "cell_type": "markdown",
   "metadata": {},
   "source": [
    "#### Exercise 2a: Fit a Random Forest. (4 points)\n",
    "\n",
    "#### Fit different Random Forest classifiers by varying the number of trees among {10, 50, 100, 400, 1000}.\n",
    "\n",
    "#### Set the `criterion` to entropy and set the random_state to the value defined above. Keep all other parameters at their default values.\n",
    "\n",
    "#### Report the validation set accuracies for each classifier."
   ]
  },
  {
   "cell_type": "code",
   "execution_count": null,
   "metadata": {},
   "outputs": [],
   "source": [
    "# TODO"
   ]
  },
  {
   "cell_type": "markdown",
   "metadata": {},
   "source": [
    "#### Comment on the effect of increasing the number of trees on validation performance. Compare the performance of the best performing Random Forest classifier against the Decision Tree Classifier trained with entropy (Ex. 1a) and explain any difference."
   ]
  },
  {
   "cell_type": "markdown",
   "metadata": {},
   "source": [
    "**Answer:** [TODO]"
   ]
  },
  {
   "cell_type": "markdown",
   "metadata": {},
   "source": [
    "#### Exercise 2b: Fit a Gradient Boosted Decision Tree (GBDT). (4 points)\n",
    "\n",
    "#### Fit different GBDTs by varying the number of boosting steps/trees added among {5, 10, 20, 50, 100, 200}.\n",
    "\n",
    "#### Set the `n_iter_no_change` to 100, `validation_fraction=0.2`, and random_state to the value defined above. Keep all other parameters at their default values.\n",
    "\n",
    "#### Report the training and validation set accuracies for each classifier."
   ]
  },
  {
   "cell_type": "code",
   "execution_count": null,
   "metadata": {},
   "outputs": [],
   "source": [
    "# TODO"
   ]
  },
  {
   "cell_type": "markdown",
   "metadata": {},
   "source": [
    "#### Comment on the effect of increasing the number of trees on validation performance. Compare the performance of the best performing GBDT against that of the best performing Random Forest classifier (Ex. 2a) and Decision Tree classifier trained with entropy (Ex. 1a)."
   ]
  },
  {
   "cell_type": "markdown",
   "metadata": {},
   "source": [
    "**Answer:** [TODO]"
   ]
  }
 ],
 "metadata": {
  "kernelspec": {
   "display_name": "ece364",
   "language": "python",
   "name": "python3"
  },
  "language_info": {
   "codemirror_mode": {
    "name": "ipython",
    "version": 3
   },
   "file_extension": ".py",
   "mimetype": "text/x-python",
   "name": "python",
   "nbconvert_exporter": "python",
   "pygments_lexer": "ipython3",
   "version": "3.12.11"
  }
 },
 "nbformat": 4,
 "nbformat_minor": 4
}
